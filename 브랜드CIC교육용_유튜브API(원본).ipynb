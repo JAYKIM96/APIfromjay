{
  "nbformat": 4,
  "nbformat_minor": 0,
  "metadata": {
    "colab": {
      "provenance": [],
      "authorship_tag": "ABX9TyPR2qg1YCBDKJ4qjOXWIBQy",
      "include_colab_link": true
    },
    "kernelspec": {
      "name": "python3",
      "display_name": "Python 3"
    },
    "language_info": {
      "name": "python"
    }
  },
  "cells": [
    {
      "cell_type": "markdown",
      "metadata": {
        "id": "view-in-github",
        "colab_type": "text"
      },
      "source": [
        "<a href=\"https://colab.research.google.com/github/JAYKIM96/APIfromjay/blob/main/%EB%B8%8C%EB%9E%9C%EB%93%9CCIC%EA%B5%90%EC%9C%A1%EC%9A%A9_%EC%9C%A0%ED%8A%9C%EB%B8%8CAPI(%EC%9B%90%EB%B3%B8).ipynb\" target=\"_parent\"><img src=\"https://colab.research.google.com/assets/colab-badge.svg\" alt=\"Open In Colab\"/></a>"
      ]
    },
    {
      "cell_type": "markdown",
      "source": [
        "## Google colab이란?\n",
        "- 웹 브라우저에서 Python 코드를 작성하고 실행할 수 있는 환경\n",
        "\n",
        "\n",
        "## API란?\n",
        "- 일종의 MENU : 개발자들은 API를 통해 특정 기능이나 데이터에 접근할 수 있음\n",
        "      ex. 날씨 정보를 제공하는 API : 개발자는 API를 통해 날씨 정보를 얻고 자신의 어플리케이션에 표시할 수 있음\n",
        "\n",
        "###코드 순서\n",
        "1. 검색어에 따른 유튜브 데이터 추출하기\n",
        "2. 특정 유튜브 콘텐츠에 대한 모든 댓글 추출하기\n",
        "\n",
        "###주의할 점\n",
        "- API키는 외부에 게시하거나 공유하는 등의 행위를 자제해주세요.\n",
        "  - 데이터를 요청할 때마다 사용 가능한 할당량이 깎여 나가는 구조이기 때문\n",
        "\n"
      ],
      "metadata": {
        "id": "NhBP0izkNr_t"
      }
    },
    {
      "cell_type": "markdown",
      "source": [
        "###기간 1개, 키워드 1개만 조회하고 싶을 땐 어떻게 하나요?\n",
        "- 해당 부분을 아래와 같이 수정해보세요.\n",
        "\n",
        "```\n",
        "def main():\n",
        "    search_dates = [\n",
        "        [\"2022-08-01T00:00:00Z\", \"2023-07-31T00:00:00Z\"]\n",
        "    ]\n",
        "\n",
        "    keywords = [\"등드름\"]  \n",
        "    excel_file_name = '내맘대로파일명.xlsx'  \n",
        "```"
      ],
      "metadata": {
        "id": "RG_eC1PZ8yPQ"
      }
    },
    {
      "cell_type": "markdown",
      "source": [
        "#검색어에 따른 유튜브 데이터 추출하기"
      ],
      "metadata": {
        "id": "YyRCHRPO9Fv6"
      }
    },
    {
      "cell_type": "code",
      "source": [
        "!pip install xlsxwriter\n",
        "from google.colab import files  # Google Colab 파일 다운로드 기능을 위한 모듈 추가\n",
        "from googleapiclient.discovery import build\n",
        "import pandas as pd\n",
        "import datetime as dt\n",
        "\n",
        "class YoutubeVideoapi:\n",
        "    def __init__(self, date_ranges, keyword):\n",
        "        self.developer_key = 'API KEY' #현대홈쇼핑 API키 발급받은 코드를 기입 (단, 유출에 주의)\n",
        "        self.youtube_api_service_name = \"youtube\"\n",
        "        self.youtube_api_version = 'v3'\n",
        "        self.date_ranges = date_ranges\n",
        "        self.keyword = keyword\n",
        "\n",
        "    def videolist(self):\n",
        "        youtube = build(self.youtube_api_service_name, self.youtube_api_version, developerKey=self.developer_key)\n",
        "        data_dicts = {\n",
        "            '검색날짜': [], '키워드': [], '크리에이터명': [], '제목': [],\n",
        "            '조회수': [], '댓글수': [], '좋아요수': [], '게시일': [],\n",
        "            '구독자수': [], '영상 설명': [], '상위 댓글': [], 'URL': []\n",
        "        }\n",
        "\n",
        "\n",
        "        # 조회수 기준 상위 5~60개 영상을 집계해달라 (수정하고 싶을 경우, 60에 해당하는 숫자를 변경)\n",
        "        for date_range in self.date_ranges:\n",
        "            nextPageToken = None\n",
        "            count = 0  # 각 기간별로 카운트하기 위한 변수\n",
        "\n",
        "            while count < 60:\n",
        "                search_response = youtube.search().list(\n",
        "                    q=self.keyword,\n",
        "                    order='viewCount',\n",
        "                    part='snippet',\n",
        "                    maxResults=60 - count,\n",
        "                    publishedAfter=date_range[0],\n",
        "                    publishedBefore=date_range[1],\n",
        "                    pageToken=nextPageToken\n",
        "                ).execute()\n",
        "\n",
        "                for item in search_response['items']:\n",
        "                    if count >= 60:\n",
        "                        break\n",
        "\n",
        "                    channel_id = item['snippet']['channelId']\n",
        "                    video_id = item['id']['videoId']\n",
        "\n",
        "                    video_info = youtube.videos().list(\n",
        "                        part='snippet, statistics',\n",
        "                        id=video_id,\n",
        "                    ).execute()\n",
        "\n",
        "                    channel_info = youtube.channels().list(\n",
        "                        part=\"statistics,snippet\",\n",
        "                        id=channel_id\n",
        "                    ).execute()\n",
        "\n",
        "\n",
        "                    #고정댓글을 불러오기 위한 대안으로, 최상단 위치한 댓글 불러오기 (비활성화인 경우 비활성화로 표기)\n",
        "                    top_comment = \"댓글 비활성화\"\n",
        "                    try:\n",
        "                        comments_response = youtube.commentThreads().list(\n",
        "                            part='snippet',\n",
        "                            videoId=video_id,\n",
        "                            maxResults=1,\n",
        "                            order='relevance'\n",
        "                        ).execute()\n",
        "\n",
        "                        if comments_response['items']:\n",
        "                            top_comment = comments_response['items'][0]['snippet']['topLevelComment']['snippet']['textDisplay']\n",
        "                    except:\n",
        "                        pass\n",
        "\n",
        "                    # 비디오의 URL을 생성\n",
        "                    video_url = f\"https://www.youtube.com/watch?v={video_id}\"\n",
        "\n",
        "\n",
        "                    # 집계하고자 하는 데이터\n",
        "                    data_dicts['검색날짜'].append(str(dt.date.today()))\n",
        "                    data_dicts['키워드'].append(self.keyword)\n",
        "                    data_dicts['크리에이터명'].append(channel_info['items'][0]['snippet'].get('title'))\n",
        "                    data_dicts['제목'].append(video_info['items'][0]['snippet'].get('title'))\n",
        "                    data_dicts['조회수'].append(video_info['items'][0]['statistics'].get('viewCount', \"0\"))\n",
        "                    data_dicts['댓글수'].append(video_info['items'][0]['statistics'].get('commentCount', \"0\"))\n",
        "                    data_dicts['좋아요수'].append(video_info['items'][0]['statistics'].get('likeCount', \"0\"))\n",
        "                    data_dicts['게시일'].append(str(video_info['items'][0]['snippet'].get('publishedAt')))\n",
        "                    data_dicts['구독자수'].append(channel_info['items'][0]['statistics'].get('subscriberCount', \"0\"))\n",
        "                    data_dicts['영상 설명'].append(video_info['items'][0]['snippet'].get('description'))\n",
        "                    data_dicts['상위 댓글'].append(top_comment)\n",
        "                    data_dicts['URL'].append(video_url)\n",
        "\n",
        "                    count += 1\n",
        "\n",
        "                nextPageToken = search_response.get('nextPageToken')\n",
        "\n",
        "                if not nextPageToken:\n",
        "                    break\n",
        "\n",
        "        return data_dicts\n",
        "\n",
        "#언제부터 언제까지의 기간에 걸친 데이터가 필요한가? (각각의 기간 내 게시된 키워드에 대한 콘텐츠 조회)\n",
        "\n",
        "def main():\n",
        "    search_dates = [\n",
        "        [\"2021-08-01T00:00:00Z\", \"2022-07-31T00:00:00Z\"],\n",
        "        [\"2022-08-01T00:00:00Z\", \"2023-07-31T00:00:00Z\"]\n",
        "    ]\n",
        "\n",
        "    keywords = [\"키워드1\",\"키워드2\",\"키워드3\"]  # 검색하기 원하는 키워드명(\"\"와 ,로 추가)\n",
        "    excel_file_name = '원하는 파일명.xlsx'  # 저장하기 원하는 파일명 (수정 가능하며 '작은따옴표필수')\n",
        "\n",
        "    with pd.ExcelWriter(excel_file_name, engine='xlsxwriter') as writer:\n",
        "        for keyword in keywords:\n",
        "            search_dict = YoutubeVideoapi(date_ranges=search_dates, keyword=keyword).videolist()\n",
        "            df = pd.DataFrame(search_dict)\n",
        "            df.to_excel(writer, sheet_name=keyword, index=False, encoding='utf-8')\n",
        "\n",
        "    print(f\"Results saved to {excel_file_name}\")\n",
        "\n",
        "    # Google Colab에서 파일 다운로드\n",
        "    files.download(excel_file_name)\n",
        "\n",
        "main()\n",
        "\n",
        "#마지막으로는 Ctrl+Enter를 쳐주시면 됩니다."
      ],
      "metadata": {
        "id": "Gptb2mTkrR4J",
        "colab": {
          "base_uri": "https://localhost:8080/",
          "height": 312
        },
        "outputId": "b3c28ecc-a122-4081-bbec-f8e459cb025f"
      },
      "execution_count": null,
      "outputs": [
        {
          "output_type": "stream",
          "name": "stdout",
          "text": [
            "Collecting xlsxwriter\n",
            "  Downloading XlsxWriter-3.1.2-py3-none-any.whl (153 kB)\n",
            "\u001b[?25l     \u001b[90m━━━━━━━━━━━━━━━━━━━━━━━━━━━━━━━━━━━━━━━━\u001b[0m \u001b[32m0.0/153.0 kB\u001b[0m \u001b[31m?\u001b[0m eta \u001b[36m-:--:--\u001b[0m\r\u001b[2K     \u001b[91m━━━━━━━━━━━━━━━━━━━━━━━━━━━━━━━\u001b[0m\u001b[90m╺\u001b[0m\u001b[90m━━━━━━━\u001b[0m \u001b[32m122.9/153.0 kB\u001b[0m \u001b[31m3.8 MB/s\u001b[0m eta \u001b[36m0:00:01\u001b[0m\r\u001b[2K     \u001b[90m━━━━━━━━━━━━━━━━━━━━━━━━━━━━━━━━━━━━━━━\u001b[0m \u001b[32m153.0/153.0 kB\u001b[0m \u001b[31m3.5 MB/s\u001b[0m eta \u001b[36m0:00:00\u001b[0m\n",
            "\u001b[?25hInstalling collected packages: xlsxwriter\n",
            "Successfully installed xlsxwriter-3.1.2\n"
          ]
        },
        {
          "output_type": "stream",
          "name": "stderr",
          "text": [
            "WARNING:googleapiclient.http:Encountered 403 Forbidden with reason \"commentsDisabled\"\n",
            "WARNING:googleapiclient.http:Encountered 403 Forbidden with reason \"commentsDisabled\"\n",
            "WARNING:googleapiclient.http:Encountered 403 Forbidden with reason \"commentsDisabled\"\n",
            "/usr/local/lib/python3.10/dist-packages/pandas/util/_decorators.py:211: FutureWarning: the 'encoding' keyword is deprecated and will be removed in a future version. Please take steps to stop the use of 'encoding'\n",
            "  return func(*args, **kwargs)\n",
            "WARNING:googleapiclient.http:Encountered 403 Forbidden with reason \"commentsDisabled\"\n",
            "WARNING:googleapiclient.http:Encountered 403 Forbidden with reason \"commentsDisabled\"\n",
            "WARNING:googleapiclient.http:Encountered 403 Forbidden with reason \"commentsDisabled\"\n"
          ]
        },
        {
          "output_type": "stream",
          "name": "stdout",
          "text": [
            "Results saved to 예시.xlsx\n"
          ]
        },
        {
          "output_type": "stream",
          "name": "stderr",
          "text": [
            "/usr/local/lib/python3.10/dist-packages/pandas/util/_decorators.py:211: FutureWarning: the 'encoding' keyword is deprecated and will be removed in a future version. Please take steps to stop the use of 'encoding'\n",
            "  return func(*args, **kwargs)\n"
          ]
        },
        {
          "output_type": "display_data",
          "data": {
            "text/plain": [
              "<IPython.core.display.Javascript object>"
            ],
            "application/javascript": [
              "\n",
              "    async function download(id, filename, size) {\n",
              "      if (!google.colab.kernel.accessAllowed) {\n",
              "        return;\n",
              "      }\n",
              "      const div = document.createElement('div');\n",
              "      const label = document.createElement('label');\n",
              "      label.textContent = `Downloading \"${filename}\": `;\n",
              "      div.appendChild(label);\n",
              "      const progress = document.createElement('progress');\n",
              "      progress.max = size;\n",
              "      div.appendChild(progress);\n",
              "      document.body.appendChild(div);\n",
              "\n",
              "      const buffers = [];\n",
              "      let downloaded = 0;\n",
              "\n",
              "      const channel = await google.colab.kernel.comms.open(id);\n",
              "      // Send a message to notify the kernel that we're ready.\n",
              "      channel.send({})\n",
              "\n",
              "      for await (const message of channel.messages) {\n",
              "        // Send a message to notify the kernel that we're ready.\n",
              "        channel.send({})\n",
              "        if (message.buffers) {\n",
              "          for (const buffer of message.buffers) {\n",
              "            buffers.push(buffer);\n",
              "            downloaded += buffer.byteLength;\n",
              "            progress.value = downloaded;\n",
              "          }\n",
              "        }\n",
              "      }\n",
              "      const blob = new Blob(buffers, {type: 'application/binary'});\n",
              "      const a = document.createElement('a');\n",
              "      a.href = window.URL.createObjectURL(blob);\n",
              "      a.download = filename;\n",
              "      div.appendChild(a);\n",
              "      a.click();\n",
              "      div.remove();\n",
              "    }\n",
              "  "
            ]
          },
          "metadata": {}
        },
        {
          "output_type": "display_data",
          "data": {
            "text/plain": [
              "<IPython.core.display.Javascript object>"
            ],
            "application/javascript": [
              "download(\"download_da889956-67e2-4c29-a64e-34b2989d83b1\", \"\\uc608\\uc2dc.xlsx\", 157466)"
            ]
          },
          "metadata": {}
        }
      ]
    },
    {
      "cell_type": "markdown",
      "source": [
        "#특정 유튜브 콘텐츠에 대한 모든 댓글 추출하기"
      ],
      "metadata": {
        "id": "AN1XJUvH94vO"
      }
    },
    {
      "cell_type": "markdown",
      "source": [
        "※참고 사항\n",
        "\n",
        "\n",
        "```\n",
        "# response = api_obj.commentThreads().list(part='snippet', videoId='8k5pmcHfwRA', maxResults=100).execute()\n",
        "```\n",
        "\n",
        "\n",
        "- 이 코드에서 VideoId : **콘텐츠 URL에 써있는 & 앞까지의 문자 복붙**\n",
        "\n",
        "ex.https://www.youtube.com/watch?v=8k5pmcHfwRA&t=389s 이면, '8k5pmcHfwRA'\n",
        "- 작은 따옴표 필수!!\n"
      ],
      "metadata": {
        "id": "WS0o59vIN86k"
      }
    },
    {
      "cell_type": "code",
      "source": [
        "!pip install google-api-python-client\n",
        "import pandas as pd\n",
        "from googleapiclient.discovery import build\n",
        "from google.colab import files\n",
        "\n",
        "import warnings  # 경고창 무시\n",
        "warnings.filterwarnings('ignore')\n",
        "\n",
        "comments = list()\n",
        "api_obj = build('youtube', 'v3', developerKey='API KEY')  # 현대홈쇼핑 API키 발급받은 코드를 기입 (단, 유출에 주의)\n",
        "response = api_obj.commentThreads().list(part='snippet',\n",
        "videoId='8k5pmcHfwRA', maxResults=100).execute() # VideoId에 콘텐츠 URL에 써있는 & 앞까지의 문자 복붙\n",
        "\n",
        "while response:\n",
        "    for item in response['items']:\n",
        "        comment = item['snippet']['topLevelComment']['snippet']\n",
        "        comments.append([comment['textDisplay'], comment['authorDisplayName'], comment['publishedAt'], comment['likeCount']])\n",
        "\n",
        "    if 'nextPageToken' in response:\n",
        "        response = api_obj.commentThreads().list(part='snippet', videoId='8k5pmcHfwRA', pageToken=response['nextPageToken'], maxResults=100).execute()\n",
        "    else:\n",
        "        break\n",
        "\n",
        "df = pd.DataFrame(comments, columns=['Comment', 'Author', 'Published At', 'Like Count'])\n",
        "filename = \"원하는 파일명.xlsx\" # 저장하기 원하는 파일명 (수정 가능하며 \"작은따옴표필수\")\n",
        "df.to_excel(filename, index=False)\n",
        "\n",
        "# Google Colab에서 파일 다운로드 기능\n",
        "files.download(filename)"
      ],
      "metadata": {
        "id": "t07YL5B6rUuB",
        "colab": {
          "base_uri": "https://localhost:8080/",
          "height": 388
        },
        "outputId": "8c7c0a0d-c668-418d-e7fc-3cbf69129649"
      },
      "execution_count": null,
      "outputs": [
        {
          "output_type": "stream",
          "name": "stdout",
          "text": [
            "Requirement already satisfied: google-api-python-client in /usr/local/lib/python3.10/dist-packages (2.84.0)\n",
            "Requirement already satisfied: httplib2<1dev,>=0.15.0 in /usr/local/lib/python3.10/dist-packages (from google-api-python-client) (0.22.0)\n",
            "Requirement already satisfied: google-auth<3.0.0dev,>=1.19.0 in /usr/local/lib/python3.10/dist-packages (from google-api-python-client) (2.17.3)\n",
            "Requirement already satisfied: google-auth-httplib2>=0.1.0 in /usr/local/lib/python3.10/dist-packages (from google-api-python-client) (0.1.0)\n",
            "Requirement already satisfied: google-api-core!=2.0.*,!=2.1.*,!=2.2.*,!=2.3.0,<3.0.0dev,>=1.31.5 in /usr/local/lib/python3.10/dist-packages (from google-api-python-client) (2.11.1)\n",
            "Requirement already satisfied: uritemplate<5,>=3.0.1 in /usr/local/lib/python3.10/dist-packages (from google-api-python-client) (4.1.1)\n",
            "Requirement already satisfied: googleapis-common-protos<2.0.dev0,>=1.56.2 in /usr/local/lib/python3.10/dist-packages (from google-api-core!=2.0.*,!=2.1.*,!=2.2.*,!=2.3.0,<3.0.0dev,>=1.31.5->google-api-python-client) (1.60.0)\n",
            "Requirement already satisfied: protobuf!=3.20.0,!=3.20.1,!=4.21.0,!=4.21.1,!=4.21.2,!=4.21.3,!=4.21.4,!=4.21.5,<5.0.0.dev0,>=3.19.5 in /usr/local/lib/python3.10/dist-packages (from google-api-core!=2.0.*,!=2.1.*,!=2.2.*,!=2.3.0,<3.0.0dev,>=1.31.5->google-api-python-client) (3.20.3)\n",
            "Requirement already satisfied: requests<3.0.0.dev0,>=2.18.0 in /usr/local/lib/python3.10/dist-packages (from google-api-core!=2.0.*,!=2.1.*,!=2.2.*,!=2.3.0,<3.0.0dev,>=1.31.5->google-api-python-client) (2.31.0)\n",
            "Requirement already satisfied: cachetools<6.0,>=2.0.0 in /usr/local/lib/python3.10/dist-packages (from google-auth<3.0.0dev,>=1.19.0->google-api-python-client) (5.3.1)\n",
            "Requirement already satisfied: pyasn1-modules>=0.2.1 in /usr/local/lib/python3.10/dist-packages (from google-auth<3.0.0dev,>=1.19.0->google-api-python-client) (0.3.0)\n",
            "Requirement already satisfied: six>=1.9.0 in /usr/local/lib/python3.10/dist-packages (from google-auth<3.0.0dev,>=1.19.0->google-api-python-client) (1.16.0)\n",
            "Requirement already satisfied: rsa<5,>=3.1.4 in /usr/local/lib/python3.10/dist-packages (from google-auth<3.0.0dev,>=1.19.0->google-api-python-client) (4.9)\n",
            "Requirement already satisfied: pyparsing!=3.0.0,!=3.0.1,!=3.0.2,!=3.0.3,<4,>=2.4.2 in /usr/local/lib/python3.10/dist-packages (from httplib2<1dev,>=0.15.0->google-api-python-client) (3.1.1)\n",
            "Requirement already satisfied: pyasn1<0.6.0,>=0.4.6 in /usr/local/lib/python3.10/dist-packages (from pyasn1-modules>=0.2.1->google-auth<3.0.0dev,>=1.19.0->google-api-python-client) (0.5.0)\n",
            "Requirement already satisfied: charset-normalizer<4,>=2 in /usr/local/lib/python3.10/dist-packages (from requests<3.0.0.dev0,>=2.18.0->google-api-core!=2.0.*,!=2.1.*,!=2.2.*,!=2.3.0,<3.0.0dev,>=1.31.5->google-api-python-client) (3.2.0)\n",
            "Requirement already satisfied: idna<4,>=2.5 in /usr/local/lib/python3.10/dist-packages (from requests<3.0.0.dev0,>=2.18.0->google-api-core!=2.0.*,!=2.1.*,!=2.2.*,!=2.3.0,<3.0.0dev,>=1.31.5->google-api-python-client) (3.4)\n",
            "Requirement already satisfied: urllib3<3,>=1.21.1 in /usr/local/lib/python3.10/dist-packages (from requests<3.0.0.dev0,>=2.18.0->google-api-core!=2.0.*,!=2.1.*,!=2.2.*,!=2.3.0,<3.0.0dev,>=1.31.5->google-api-python-client) (2.0.4)\n",
            "Requirement already satisfied: certifi>=2017.4.17 in /usr/local/lib/python3.10/dist-packages (from requests<3.0.0.dev0,>=2.18.0->google-api-core!=2.0.*,!=2.1.*,!=2.2.*,!=2.3.0,<3.0.0dev,>=1.31.5->google-api-python-client) (2023.7.22)\n"
          ]
        },
        {
          "output_type": "display_data",
          "data": {
            "text/plain": [
              "<IPython.core.display.Javascript object>"
            ],
            "application/javascript": [
              "\n",
              "    async function download(id, filename, size) {\n",
              "      if (!google.colab.kernel.accessAllowed) {\n",
              "        return;\n",
              "      }\n",
              "      const div = document.createElement('div');\n",
              "      const label = document.createElement('label');\n",
              "      label.textContent = `Downloading \"${filename}\": `;\n",
              "      div.appendChild(label);\n",
              "      const progress = document.createElement('progress');\n",
              "      progress.max = size;\n",
              "      div.appendChild(progress);\n",
              "      document.body.appendChild(div);\n",
              "\n",
              "      const buffers = [];\n",
              "      let downloaded = 0;\n",
              "\n",
              "      const channel = await google.colab.kernel.comms.open(id);\n",
              "      // Send a message to notify the kernel that we're ready.\n",
              "      channel.send({})\n",
              "\n",
              "      for await (const message of channel.messages) {\n",
              "        // Send a message to notify the kernel that we're ready.\n",
              "        channel.send({})\n",
              "        if (message.buffers) {\n",
              "          for (const buffer of message.buffers) {\n",
              "            buffers.push(buffer);\n",
              "            downloaded += buffer.byteLength;\n",
              "            progress.value = downloaded;\n",
              "          }\n",
              "        }\n",
              "      }\n",
              "      const blob = new Blob(buffers, {type: 'application/binary'});\n",
              "      const a = document.createElement('a');\n",
              "      a.href = window.URL.createObjectURL(blob);\n",
              "      a.download = filename;\n",
              "      div.appendChild(a);\n",
              "      a.click();\n",
              "      div.remove();\n",
              "    }\n",
              "  "
            ]
          },
          "metadata": {}
        },
        {
          "output_type": "display_data",
          "data": {
            "text/plain": [
              "<IPython.core.display.Javascript object>"
            ],
            "application/javascript": [
              "download(\"download_59f61d9b-b238-4759-be02-7fe8bfb7e9e9\", \"\\uc608\\uc2dc2.xlsx\", 50341)"
            ]
          },
          "metadata": {}
        }
      ]
    }
  ]
}